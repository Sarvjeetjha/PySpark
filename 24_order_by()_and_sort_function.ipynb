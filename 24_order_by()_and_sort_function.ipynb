{
 "cells": [
  {
   "cell_type": "markdown",
   "metadata": {},
   "source": [
    "orderBy and sort :- it is used ot sort data in ascending or descending order based oon single or multiple column by default it sort in sacending order"
   ]
  },
  {
   "cell_type": "code",
   "execution_count": 1,
   "metadata": {},
   "outputs": [
    {
     "name": "stderr",
     "output_type": "stream",
     "text": [
      "Setting default log level to \"WARN\".\n",
      "To adjust logging level use sc.setLogLevel(newLevel). For SparkR, use setLogLevel(newLevel).\n",
      "24/03/20 18:59:21 WARN NativeCodeLoader: Unable to load native-hadoop library for your platform... using builtin-java classes where applicable\n"
     ]
    },
    {
     "data": {
      "text/html": [
       "\n",
       "            <div>\n",
       "                <p><b>SparkSession - in-memory</b></p>\n",
       "                \n",
       "        <div>\n",
       "            <p><b>SparkContext</b></p>\n",
       "\n",
       "            <p><a href=\"http://5146996eab29:4040\">Spark UI</a></p>\n",
       "\n",
       "            <dl>\n",
       "              <dt>Version</dt>\n",
       "                <dd><code>v3.2.1</code></dd>\n",
       "              <dt>Master</dt>\n",
       "                <dd><code>local[*]</code></dd>\n",
       "              <dt>AppName</dt>\n",
       "                <dd><code>orderby and sort function </code></dd>\n",
       "            </dl>\n",
       "        </div>\n",
       "        \n",
       "            </div>\n",
       "        "
      ],
      "text/plain": [
       "<pyspark.sql.session.SparkSession at 0x7fdd8912c9a0>"
      ]
     },
     "execution_count": 1,
     "metadata": {},
     "output_type": "execute_result"
    }
   ],
   "source": [
    "from pyspark.sql import SparkSession\n",
    "spark=SparkSession.builder.appName('orderby and sort function ').getOrCreate()\n",
    "spark"
   ]
  },
  {
   "cell_type": "code",
   "execution_count": 2,
   "metadata": {},
   "outputs": [
    {
     "name": "stdout",
     "output_type": "stream",
     "text": [
      "root\n",
      " |-- id: long (nullable = true)\n",
      " |-- name: string (nullable = true)\n",
      " |-- gender: string (nullable = true)\n",
      " |-- salary: long (nullable = true)\n",
      " |-- dep: string (nullable = true)\n",
      "\n"
     ]
    },
    {
     "name": "stderr",
     "output_type": "stream",
     "text": [
      "                                                                                \r"
     ]
    },
    {
     "name": "stdout",
     "output_type": "stream",
     "text": [
      "+---+------+------+------+-------+\n",
      "| id|  name|gender|salary|    dep|\n",
      "+---+------+------+------+-------+\n",
      "|  1|Maheer|     M|  2000|     It|\n",
      "|  2|  Wafa|     M|     0|     Hr|\n",
      "|  3|   Asi|     F|  3000|Payroll|\n",
      "|  4| Tonny|     M|  3000|     Hr|\n",
      "+---+------+------+------+-------+\n",
      "\n"
     ]
    }
   ],
   "source": [
    "data=[(1,'Maheer','M',2000,'It'),(2,'Wafa','M',000,'Hr'),(3,'Asi','F',3000,'Payroll'),(4,'Tonny','M',3000,'Hr')]\n",
    "schema=['id','name','gender','salary','dep']\n",
    "df=spark.createDataFrame(data,schema)\n",
    "df.printSchema()\n",
    "df.show()\n"
   ]
  },
  {
   "cell_type": "markdown",
   "metadata": {},
   "source": [
    "sorting dataframe on tye basis of one column by default it will be in ascending order"
   ]
  },
  {
   "cell_type": "code",
   "execution_count": 3,
   "metadata": {},
   "outputs": [
    {
     "name": "stdout",
     "output_type": "stream",
     "text": [
      "root\n",
      " |-- id: long (nullable = true)\n",
      " |-- name: string (nullable = true)\n",
      " |-- gender: string (nullable = true)\n",
      " |-- salary: long (nullable = true)\n",
      " |-- dep: string (nullable = true)\n",
      "\n",
      "+---+------+------+------+-------+\n",
      "| id|  name|gender|salary|    dep|\n",
      "+---+------+------+------+-------+\n",
      "|  4| Tonny|     M|  3000|     Hr|\n",
      "|  2|  Wafa|     M|     0|     Hr|\n",
      "|  1|Maheer|     M|  2000|     It|\n",
      "|  3|   Asi|     F|  3000|Payroll|\n",
      "+---+------+------+------+-------+\n",
      "\n"
     ]
    }
   ],
   "source": [
    "df2=df.sort('dep')\n",
    "\n",
    "\n",
    "df2.printSchema()\n",
    "df2.show()"
   ]
  },
  {
   "cell_type": "code",
   "execution_count": 4,
   "metadata": {},
   "outputs": [
    {
     "name": "stdout",
     "output_type": "stream",
     "text": [
      "root\n",
      " |-- id: long (nullable = true)\n",
      " |-- name: string (nullable = true)\n",
      " |-- gender: string (nullable = true)\n",
      " |-- salary: long (nullable = true)\n",
      " |-- dep: string (nullable = true)\n",
      "\n",
      "+---+------+------+------+-------+\n",
      "| id|  name|gender|salary|    dep|\n",
      "+---+------+------+------+-------+\n",
      "|  4| Tonny|     M|  3000|     Hr|\n",
      "|  2|  Wafa|     M|     0|     Hr|\n",
      "|  1|Maheer|     M|  2000|     It|\n",
      "|  3|   Asi|     F|  3000|Payroll|\n",
      "+---+------+------+------+-------+\n",
      "\n"
     ]
    }
   ],
   "source": [
    "df2=df.sort(df.dep.desc()) # in descending order for ascending order asc\n",
    "df2=df.orderBy('dep')\n",
    "df2.printSchema()\n",
    "df2.show()"
   ]
  },
  {
   "cell_type": "markdown",
   "metadata": {},
   "source": [
    "sorting on the basis of more than one column"
   ]
  },
  {
   "cell_type": "code",
   "execution_count": 5,
   "metadata": {},
   "outputs": [
    {
     "name": "stdout",
     "output_type": "stream",
     "text": [
      "root\n",
      " |-- id: long (nullable = true)\n",
      " |-- name: string (nullable = true)\n",
      " |-- gender: string (nullable = true)\n",
      " |-- salary: long (nullable = true)\n",
      " |-- dep: string (nullable = true)\n",
      "\n",
      "+---+------+------+------+-------+\n",
      "| id|  name|gender|salary|    dep|\n",
      "+---+------+------+------+-------+\n",
      "|  2|  Wafa|     M|     0|     Hr|\n",
      "|  4| Tonny|     M|  3000|     Hr|\n",
      "|  1|Maheer|     M|  2000|     It|\n",
      "|  3|   Asi|     F|  3000|Payroll|\n",
      "+---+------+------+------+-------+\n",
      "\n"
     ]
    }
   ],
   "source": [
    "df2=df.sort(df.dep,df.id) \n",
    "df2=df.orderBy(df.dep,df.id) \n",
    "df2=df.orderBy('dep','id')\n",
    "df2.printSchema()\n",
    "df2.show()"
   ]
  },
  {
   "cell_type": "markdown",
   "metadata": {},
   "source": [
    "for descending order use desc() function inmpilicitely"
   ]
  },
  {
   "cell_type": "code",
   "execution_count": 15,
   "metadata": {},
   "outputs": [
    {
     "name": "stdout",
     "output_type": "stream",
     "text": [
      "root\n",
      " |-- id: long (nullable = true)\n",
      " |-- name: string (nullable = true)\n",
      " |-- gender: string (nullable = true)\n",
      " |-- salary: long (nullable = true)\n",
      " |-- dep: string (nullable = true)\n",
      "\n",
      "+---+------+------+------+-------+\n",
      "| id|  name|gender|salary|    dep|\n",
      "+---+------+------+------+-------+\n",
      "|  4| Tonny|     M|  3000|     Hr|\n",
      "|  2|  Wafa|     M|     0|     Hr|\n",
      "|  1|Maheer|     M|  2000|     It|\n",
      "|  3|   Asi|     F|  3000|Payroll|\n",
      "+---+------+------+------+-------+\n",
      "\n"
     ]
    }
   ],
   "source": [
    "df2=df.sort(df.dep,df.id.desc())  # here only id wil be desc but dep will be asc \n",
    "df2=df.orderBy(df.dep,df.id.desc()) \n",
    "# df2=df.orderBy('dep','id')\n",
    "df2.printSchema()\n",
    "df2.show()"
   ]
  },
  {
   "cell_type": "code",
   "execution_count": 16,
   "metadata": {},
   "outputs": [
    {
     "name": "stdout",
     "output_type": "stream",
     "text": [
      "root\n",
      " |-- id: long (nullable = true)\n",
      " |-- name: string (nullable = true)\n",
      " |-- gender: string (nullable = true)\n",
      " |-- salary: long (nullable = true)\n",
      " |-- dep: string (nullable = true)\n",
      "\n",
      "+---+------+------+------+-------+\n",
      "| id|  name|gender|salary|    dep|\n",
      "+---+------+------+------+-------+\n",
      "|  3|   Asi|     F|  3000|Payroll|\n",
      "|  1|Maheer|     M|  2000|     It|\n",
      "|  4| Tonny|     M|  3000|     Hr|\n",
      "|  2|  Wafa|     M|     0|     Hr|\n",
      "+---+------+------+------+-------+\n",
      "\n"
     ]
    }
   ],
   "source": [
    "df2=df.sort(df.dep.desc(),df.id.desc())  \n",
    "df2=df.orderBy(df.dep.desc(),df.id.desc()) \n",
    "# df2=df.orderBy('dep','id')\n",
    "df2.printSchema()\n",
    "df2.show()"
   ]
  }
 ],
 "metadata": {
  "kernelspec": {
   "display_name": "Python 3.8.10 64-bit",
   "language": "python",
   "name": "python3"
  },
  "language_info": {
   "codemirror_mode": {
    "name": "ipython",
    "version": 3
   },
   "file_extension": ".py",
   "mimetype": "text/x-python",
   "name": "python",
   "nbconvert_exporter": "python",
   "pygments_lexer": "ipython3",
   "version": "3.8.10"
  },
  "vscode": {
   "interpreter": {
    "hash": "e7370f93d1d0cde622a1f8e1c04877d8463912d04d973331ad4851f04de6915a"
   }
  }
 },
 "nbformat": 4,
 "nbformat_minor": 2
}
