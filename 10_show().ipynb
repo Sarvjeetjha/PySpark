{
 "cells": [
  {
   "cell_type": "markdown",
   "metadata": {},
   "source": [
    "Show method"
   ]
  },
  {
   "cell_type": "code",
   "execution_count": 6,
   "metadata": {},
   "outputs": [
    {
     "data": {
      "text/html": [
       "\n",
       "            <div>\n",
       "                <p><b>SparkSession - in-memory</b></p>\n",
       "                \n",
       "        <div>\n",
       "            <p><b>SparkContext</b></p>\n",
       "\n",
       "            <p><a href=\"http://LAPTOP-27E2FOUT:4040\">Spark UI</a></p>\n",
       "\n",
       "            <dl>\n",
       "              <dt>Version</dt>\n",
       "                <dd><code>v3.5.0</code></dd>\n",
       "              <dt>Master</dt>\n",
       "                <dd><code>local[*]</code></dd>\n",
       "              <dt>AppName</dt>\n",
       "                <dd><code>show method</code></dd>\n",
       "            </dl>\n",
       "        </div>\n",
       "        \n",
       "            </div>\n",
       "        "
      ],
      "text/plain": [
       "<pyspark.sql.session.SparkSession at 0x1eaf4e69270>"
      ]
     },
     "execution_count": 6,
     "metadata": {},
     "output_type": "execute_result"
    }
   ],
   "source": [
    "import pyspark\n",
    "from pyspark.sql import SparkSession\n",
    "spark=SparkSession.builder.appName('show method').getOrCreate()\n",
    "spark"
   ]
  },
  {
   "cell_type": "code",
   "execution_count": 8,
   "metadata": {},
   "outputs": [
    {
     "name": "stdout",
     "output_type": "stream",
     "text": [
      "+------------+-----------+------------+-----------+--------------------+\n",
      "|sepal_length|sepal_width|petal_length|petal_width|             species|\n",
      "+------------+-----------+------------+-----------+--------------------+\n",
      "|         5.1|        3.5|         1.4|        0.2|         Iris-setosa|\n",
      "|         5.0|       NULL|        NULL|       NULL|                NULL|\n",
      "|         4.7|        3.2|         1.3|        0.2|Iris-setosaIris-s...|\n",
      "|         4.6|       NULL|         1.5|        0.2|Iris-setosaIris-s...|\n",
      "|         5.0|        3.6|         1.4|        0.2|Iris-setosaIris-s...|\n",
      "|         5.4|        3.9|         1.7|        0.4|Iris-setosaIris-s...|\n",
      "|         4.6|        3.4|         1.4|        0.3|Iris-setosaIris-s...|\n",
      "|         5.0|        3.4|         1.5|        0.2|Iris-setosaIris-s...|\n",
      "|         4.4|        2.9|         1.4|        0.2|Iris-setosaIris-s...|\n",
      "|         4.9|        3.1|         1.5|        0.1|Iris-setosaIris-s...|\n",
      "|         5.4|        3.7|         1.5|        0.2|Iris-setosaIris-s...|\n",
      "|         4.8|        3.4|         1.6|        0.2|Iris-setosaIris-s...|\n",
      "|         4.8|        3.0|         1.4|        0.1|         Iris-setosa|\n",
      "|         4.3|        3.0|         1.1|        0.1|         Iris-setosa|\n",
      "|         5.8|        4.0|         1.2|        0.2|         Iris-setosa|\n",
      "|         5.7|        4.4|         1.5|        0.4|         Iris-setosa|\n",
      "|         5.4|        3.9|         1.3|        0.4|         Iris-setosa|\n",
      "|         5.1|        3.5|         1.4|        0.3|         Iris-setosa|\n",
      "|         5.7|        3.8|         1.7|        0.3|         Iris-setosa|\n",
      "|         5.1|        3.8|         1.5|        0.3|         Iris-setosa|\n",
      "+------------+-----------+------------+-----------+--------------------+\n",
      "only showing top 20 rows\n",
      "\n"
     ]
    }
   ],
   "source": [
    "df=spark.read.csv('IRIS.csv',header='True',inferSchema=True)\n",
    "df.show()"
   ]
  },
  {
   "cell_type": "markdown",
   "metadata": {},
   "source": [
    "NOte:-By default show() method return only 20 rows and 20 character of each cell"
   ]
  },
  {
   "cell_type": "markdown",
   "metadata": {},
   "source": [
    " Parameters\n",
    "    ----------\n",
    "    n : int, optional\n",
    "        Number of rows to show.\n",
    "    truncate : bool or int, optional\n",
    "        If set to ``True``, truncate strings longer than 20 chars by default.\n",
    "        If set to a number greater than one, truncates long strings to length ``truncate``\n",
    "        and align cells right.\n",
    "    vertical : bool, optional\n",
    "        If set to ``True``, print output rows vertically (one line\n",
    "        per column value)."
   ]
  },
  {
   "cell_type": "code",
   "execution_count": 9,
   "metadata": {},
   "outputs": [
    {
     "name": "stdout",
     "output_type": "stream",
     "text": [
      "+------------+-----------+------------+-----------+--------------------+\n",
      "|sepal_length|sepal_width|petal_length|petal_width|             species|\n",
      "+------------+-----------+------------+-----------+--------------------+\n",
      "|         5.1|        3.5|         1.4|        0.2|         Iris-setosa|\n",
      "|         5.0|       NULL|        NULL|       NULL|                NULL|\n",
      "|         4.7|        3.2|         1.3|        0.2|Iris-setosaIris-s...|\n",
      "|         4.6|       NULL|         1.5|        0.2|Iris-setosaIris-s...|\n",
      "|         5.0|        3.6|         1.4|        0.2|Iris-setosaIris-s...|\n",
      "|         5.4|        3.9|         1.7|        0.4|Iris-setosaIris-s...|\n",
      "|         4.6|        3.4|         1.4|        0.3|Iris-setosaIris-s...|\n",
      "|         5.0|        3.4|         1.5|        0.2|Iris-setosaIris-s...|\n",
      "|         4.4|        2.9|         1.4|        0.2|Iris-setosaIris-s...|\n",
      "|         4.9|        3.1|         1.5|        0.1|Iris-setosaIris-s...|\n",
      "|         5.4|        3.7|         1.5|        0.2|Iris-setosaIris-s...|\n",
      "|         4.8|        3.4|         1.6|        0.2|Iris-setosaIris-s...|\n",
      "|         4.8|        3.0|         1.4|        0.1|         Iris-setosa|\n",
      "|         4.3|        3.0|         1.1|        0.1|         Iris-setosa|\n",
      "|         5.8|        4.0|         1.2|        0.2|         Iris-setosa|\n",
      "|         5.7|        4.4|         1.5|        0.4|         Iris-setosa|\n",
      "|         5.4|        3.9|         1.3|        0.4|         Iris-setosa|\n",
      "|         5.1|        3.5|         1.4|        0.3|         Iris-setosa|\n",
      "|         5.7|        3.8|         1.7|        0.3|         Iris-setosa|\n",
      "|         5.1|        3.8|         1.5|        0.3|         Iris-setosa|\n",
      "|         5.4|        3.4|         1.7|        0.2|         Iris-setosa|\n",
      "|         5.1|        3.7|         1.5|        0.4|         Iris-setosa|\n",
      "|         4.6|        3.6|         1.0|        0.2|         Iris-setosa|\n",
      "|         5.1|        3.3|         1.7|        0.5|         Iris-setosa|\n",
      "|         4.8|        3.4|         1.9|        0.2|         Iris-setosa|\n",
      "|         5.0|        3.0|         1.6|        0.2|         Iris-setosa|\n",
      "|         5.0|        3.4|         1.6|        0.4|         Iris-setosa|\n",
      "|         5.2|        3.5|         1.5|        0.2|         Iris-setosa|\n",
      "|         5.2|        3.4|         1.4|        0.2|         Iris-setosa|\n",
      "|         4.7|        3.2|         1.6|        0.2|         Iris-setosa|\n",
      "|         4.8|        3.1|         1.6|        0.2|         Iris-setosa|\n",
      "|         5.4|        3.4|         1.5|        0.4|         Iris-setosa|\n",
      "|         5.2|        4.1|         1.5|        0.1|         Iris-setosa|\n",
      "|         5.5|        4.2|         1.4|        0.2|         Iris-setosa|\n",
      "|         4.9|        3.1|         1.5|        0.1|         Iris-setosa|\n",
      "|         5.0|        3.2|         1.2|        0.2|         Iris-setosa|\n",
      "|         5.5|        3.5|         1.3|        0.2|         Iris-setosa|\n",
      "|         4.9|        3.1|         1.5|        0.1|         Iris-setosa|\n",
      "|         4.4|        3.0|         1.3|        0.2|         Iris-setosa|\n",
      "|         5.1|        3.4|         1.5|        0.2|         Iris-setosa|\n",
      "|         5.0|        3.5|         1.3|        0.3|         Iris-setosa|\n",
      "|         4.5|        2.3|         1.3|        0.3|         Iris-setosa|\n",
      "|         4.4|        3.2|         1.3|        0.2|         Iris-setosa|\n",
      "|         5.0|        3.5|         1.6|        0.6|         Iris-setosa|\n",
      "|         5.1|        3.8|         1.9|        0.4|         Iris-setosa|\n",
      "|         4.8|        3.0|         1.4|        0.3|         Iris-setosa|\n",
      "|         5.1|        3.8|         1.6|        0.2|         Iris-setosa|\n",
      "|         4.6|        3.2|         1.4|        0.2|         Iris-setosa|\n",
      "|         5.3|        3.7|         1.5|        0.2|         Iris-setosa|\n",
      "|         5.0|        3.3|         1.4|        0.2|         Iris-setosa|\n",
      "+------------+-----------+------------+-----------+--------------------+\n",
      "only showing top 50 rows\n",
      "\n"
     ]
    }
   ],
   "source": [
    "df=spark.read.csv('IRIS.csv',header='True',inferSchema=True)\n",
    "df.show(n=50)"
   ]
  },
  {
   "cell_type": "code",
   "execution_count": 14,
   "metadata": {},
   "outputs": [
    {
     "name": "stdout",
     "output_type": "stream",
     "text": [
      "+------------+-----------+------------+-----------+---------------------------------------------------------------------------------------------------------------------------------------------------------------------+\n",
      "|sepal_length|sepal_width|petal_length|petal_width|species                                                                                                                                                              |\n",
      "+------------+-----------+------------+-----------+---------------------------------------------------------------------------------------------------------------------------------------------------------------------+\n",
      "|5.1         |3.5        |1.4         |0.2        |Iris-setosa                                                                                                                                                          |\n",
      "|5.0         |NULL       |NULL        |NULL       |NULL                                                                                                                                                                 |\n",
      "|4.7         |3.2        |1.3         |0.2        |Iris-setosaIris-setosaIris-setosaIris-setosaIris-setosaIris-setosaIris-setosaIris-setosaIris-setosaIris-setosaIris-setosaIris-setosaIris-setosaIris-setosaIris-setosa|\n",
      "|4.6         |NULL       |1.5         |0.2        |Iris-setosaIris-setosaIris-setosaIris-setosaIris-setosaIris-setosaIris-setosaIris-setosaIris-setosaIris-setosaIris-setosaIris-setosaIris-setosaIris-setosaIris-setosa|\n",
      "|5.0         |3.6        |1.4         |0.2        |Iris-setosaIris-setosaIris-setosaIris-setosaIris-setosaIris-setosaIris-setosaIris-setosaIris-setosaIris-setosaIris-setosaIris-setosaIris-setosaIris-setosaIris-setosa|\n",
      "|5.4         |3.9        |1.7         |0.4        |Iris-setosaIris-setosaIris-setosaIris-setosaIris-setosaIris-setosaIris-setosaIris-setosaIris-setosaIris-setosaIris-setosaIris-setosaIris-setosaIris-setosaIris-setosa|\n",
      "|4.6         |3.4        |1.4         |0.3        |Iris-setosaIris-setosaIris-setosaIris-setosaIris-setosaIris-setosaIris-setosaIris-setosaIris-setosaIris-setosaIris-setosaIris-setosaIris-setosaIris-setosaIris-setosa|\n",
      "|5.0         |3.4        |1.5         |0.2        |Iris-setosaIris-setosaIris-setosaIris-setosaIris-setosaIris-setosaIris-setosaIris-setosaIris-setosaIris-setosaIris-setosaIris-setosaIris-setosaIris-setosaIris-setosa|\n",
      "|4.4         |2.9        |1.4         |0.2        |Iris-setosaIris-setosaIris-setosaIris-setosaIris-setosaIris-setosaIris-setosaIris-setosaIris-setosaIris-setosaIris-setosaIris-setosaIris-setosaIris-setosaIris-setosa|\n",
      "|4.9         |3.1        |1.5         |0.1        |Iris-setosaIris-setosaIris-setosaIris-setosaIris-setosaIris-setosaIris-setosaIris-setosaIris-setosaIris-setosaIris-setosaIris-setosaIris-setosaIris-setosaIris-setosa|\n",
      "+------------+-----------+------------+-----------+---------------------------------------------------------------------------------------------------------------------------------------------------------------------+\n",
      "only showing top 10 rows\n",
      "\n"
     ]
    }
   ],
   "source": [
    "df=spark.read.csv('IRIS.csv',header='True',inferSchema=True)\n",
    "df.show(n=10,truncate=False)"
   ]
  },
  {
   "cell_type": "code",
   "execution_count": 17,
   "metadata": {},
   "outputs": [
    {
     "name": "stdout",
     "output_type": "stream",
     "text": [
      "+------------+-----------+------------+-----------+------------------------------+\n",
      "|sepal_length|sepal_width|petal_length|petal_width|                       species|\n",
      "+------------+-----------+------------+-----------+------------------------------+\n",
      "|         5.1|        3.5|         1.4|        0.2|                   Iris-setosa|\n",
      "|         5.0|       NULL|        NULL|       NULL|                          NULL|\n",
      "|         4.7|        3.2|         1.3|        0.2|Iris-setosaIris-setosaIris-...|\n",
      "|         4.6|       NULL|         1.5|        0.2|Iris-setosaIris-setosaIris-...|\n",
      "|         5.0|        3.6|         1.4|        0.2|Iris-setosaIris-setosaIris-...|\n",
      "|         5.4|        3.9|         1.7|        0.4|Iris-setosaIris-setosaIris-...|\n",
      "|         4.6|        3.4|         1.4|        0.3|Iris-setosaIris-setosaIris-...|\n",
      "|         5.0|        3.4|         1.5|        0.2|Iris-setosaIris-setosaIris-...|\n",
      "|         4.4|        2.9|         1.4|        0.2|Iris-setosaIris-setosaIris-...|\n",
      "|         4.9|        3.1|         1.5|        0.1|Iris-setosaIris-setosaIris-...|\n",
      "+------------+-----------+------------+-----------+------------------------------+\n",
      "only showing top 10 rows\n",
      "\n"
     ]
    }
   ],
   "source": [
    "df=spark.read.csv('IRIS.csv',header='True',inferSchema=True)\n",
    "df.show(n=10,truncate=30)"
   ]
  },
  {
   "cell_type": "code",
   "execution_count": 15,
   "metadata": {},
   "outputs": [
    {
     "name": "stdout",
     "output_type": "stream",
     "text": [
      "-RECORD 0-----------------------------------------------------------------------------------------------------------------------------------------------------------------------------\n",
      " sepal_length | 5.1                                                                                                                                                                   \n",
      " sepal_width  | 3.5                                                                                                                                                                   \n",
      " petal_length | 1.4                                                                                                                                                                   \n",
      " petal_width  | 0.2                                                                                                                                                                   \n",
      " species      | Iris-setosa                                                                                                                                                           \n",
      "-RECORD 1-----------------------------------------------------------------------------------------------------------------------------------------------------------------------------\n",
      " sepal_length | 5.0                                                                                                                                                                   \n",
      " sepal_width  | NULL                                                                                                                                                                  \n",
      " petal_length | NULL                                                                                                                                                                  \n",
      " petal_width  | NULL                                                                                                                                                                  \n",
      " species      | NULL                                                                                                                                                                  \n",
      "-RECORD 2-----------------------------------------------------------------------------------------------------------------------------------------------------------------------------\n",
      " sepal_length | 4.7                                                                                                                                                                   \n",
      " sepal_width  | 3.2                                                                                                                                                                   \n",
      " petal_length | 1.3                                                                                                                                                                   \n",
      " petal_width  | 0.2                                                                                                                                                                   \n",
      " species      | Iris-setosaIris-setosaIris-setosaIris-setosaIris-setosaIris-setosaIris-setosaIris-setosaIris-setosaIris-setosaIris-setosaIris-setosaIris-setosaIris-setosaIris-setosa \n",
      "-RECORD 3-----------------------------------------------------------------------------------------------------------------------------------------------------------------------------\n",
      " sepal_length | 4.6                                                                                                                                                                   \n",
      " sepal_width  | NULL                                                                                                                                                                  \n",
      " petal_length | 1.5                                                                                                                                                                   \n",
      " petal_width  | 0.2                                                                                                                                                                   \n",
      " species      | Iris-setosaIris-setosaIris-setosaIris-setosaIris-setosaIris-setosaIris-setosaIris-setosaIris-setosaIris-setosaIris-setosaIris-setosaIris-setosaIris-setosaIris-setosa \n",
      "-RECORD 4-----------------------------------------------------------------------------------------------------------------------------------------------------------------------------\n",
      " sepal_length | 5.0                                                                                                                                                                   \n",
      " sepal_width  | 3.6                                                                                                                                                                   \n",
      " petal_length | 1.4                                                                                                                                                                   \n",
      " petal_width  | 0.2                                                                                                                                                                   \n",
      " species      | Iris-setosaIris-setosaIris-setosaIris-setosaIris-setosaIris-setosaIris-setosaIris-setosaIris-setosaIris-setosaIris-setosaIris-setosaIris-setosaIris-setosaIris-setosa \n",
      "only showing top 5 rows\n",
      "\n"
     ]
    }
   ],
   "source": [
    "df=spark.read.csv('IRIS.csv',header='True',inferSchema=True)\n",
    "df.show(n=5,truncate=False,vertical=True)"
   ]
  },
  {
   "cell_type": "code",
   "execution_count": 20,
   "metadata": {},
   "outputs": [
    {
     "name": "stdout",
     "output_type": "stream",
     "text": [
      "-RECORD 0--------------------------------------\n",
      " sepal_length | 5.1                            \n",
      " sepal_width  | 3.5                            \n",
      " petal_length | 1.4                            \n",
      " petal_width  | 0.2                            \n",
      " species      | Iris-setosa                    \n",
      "-RECORD 1--------------------------------------\n",
      " sepal_length | 5.0                            \n",
      " sepal_width  | NULL                           \n",
      " petal_length | NULL                           \n",
      " petal_width  | NULL                           \n",
      " species      | NULL                           \n",
      "-RECORD 2--------------------------------------\n",
      " sepal_length | 4.7                            \n",
      " sepal_width  | 3.2                            \n",
      " petal_length | 1.3                            \n",
      " petal_width  | 0.2                            \n",
      " species      | Iris-setosaIris-setosaIris-... \n",
      "-RECORD 3--------------------------------------\n",
      " sepal_length | 4.6                            \n",
      " sepal_width  | NULL                           \n",
      " petal_length | 1.5                            \n",
      " petal_width  | 0.2                            \n",
      " species      | Iris-setosaIris-setosaIris-... \n",
      "-RECORD 4--------------------------------------\n",
      " sepal_length | 5.0                            \n",
      " sepal_width  | 3.6                            \n",
      " petal_length | 1.4                            \n",
      " petal_width  | 0.2                            \n",
      " species      | Iris-setosaIris-setosaIris-... \n",
      "-RECORD 5--------------------------------------\n",
      " sepal_length | 5.4                            \n",
      " sepal_width  | 3.9                            \n",
      " petal_length | 1.7                            \n",
      " petal_width  | 0.4                            \n",
      " species      | Iris-setosaIris-setosaIris-... \n",
      "-RECORD 6--------------------------------------\n",
      " sepal_length | 4.6                            \n",
      " sepal_width  | 3.4                            \n",
      " petal_length | 1.4                            \n",
      " petal_width  | 0.3                            \n",
      " species      | Iris-setosaIris-setosaIris-... \n",
      "-RECORD 7--------------------------------------\n",
      " sepal_length | 5.0                            \n",
      " sepal_width  | 3.4                            \n",
      " petal_length | 1.5                            \n",
      " petal_width  | 0.2                            \n",
      " species      | Iris-setosaIris-setosaIris-... \n",
      "-RECORD 8--------------------------------------\n",
      " sepal_length | 4.4                            \n",
      " sepal_width  | 2.9                            \n",
      " petal_length | 1.4                            \n",
      " petal_width  | 0.2                            \n",
      " species      | Iris-setosaIris-setosaIris-... \n",
      "-RECORD 9--------------------------------------\n",
      " sepal_length | 4.9                            \n",
      " sepal_width  | 3.1                            \n",
      " petal_length | 1.5                            \n",
      " petal_width  | 0.1                            \n",
      " species      | Iris-setosaIris-setosaIris-... \n",
      "only showing top 10 rows\n",
      "\n"
     ]
    }
   ],
   "source": [
    "df=spark.read.csv('IRIS.csv',header='True',inferSchema=True)\n",
    "df.show(n=10,truncate=30,vertical=True)"
   ]
  },
  {
   "cell_type": "code",
   "execution_count": 13,
   "metadata": {},
   "outputs": [
    {
     "name": "stdout",
     "output_type": "stream",
     "text": [
      "Help on method show in module pyspark.sql.dataframe:\n",
      "\n",
      "show(n: int = 20, truncate: Union[bool, int] = True, vertical: bool = False) -> None method of pyspark.sql.dataframe.DataFrame instance\n",
      "    Prints the first ``n`` rows to the console.\n",
      "    \n",
      "    .. versionadded:: 1.3.0\n",
      "    \n",
      "    .. versionchanged:: 3.4.0\n",
      "        Supports Spark Connect.\n",
      "    \n",
      "    Parameters\n",
      "    ----------\n",
      "    n : int, optional\n",
      "        Number of rows to show.\n",
      "    truncate : bool or int, optional\n",
      "        If set to ``True``, truncate strings longer than 20 chars by default.\n",
      "        If set to a number greater than one, truncates long strings to length ``truncate``\n",
      "        and align cells right.\n",
      "    vertical : bool, optional\n",
      "        If set to ``True``, print output rows vertically (one line\n",
      "        per column value).\n",
      "    \n",
      "    Examples\n",
      "    --------\n",
      "    >>> df = spark.createDataFrame([\n",
      "    ...     (14, \"Tom\"), (23, \"Alice\"), (16, \"Bob\")], [\"age\", \"name\"])\n",
      "    \n",
      "    Show only top 2 rows.\n",
      "    \n",
      "    >>> df.show(2)\n",
      "    +---+-----+\n",
      "    |age| name|\n",
      "    +---+-----+\n",
      "    | 14|  Tom|\n",
      "    | 23|Alice|\n",
      "    +---+-----+\n",
      "    only showing top 2 rows\n",
      "    \n",
      "    Show :class:`DataFrame` where the maximum number of characters is 3.\n",
      "    \n",
      "    >>> df.show(truncate=3)\n",
      "    +---+----+\n",
      "    |age|name|\n",
      "    +---+----+\n",
      "    | 14| Tom|\n",
      "    | 23| Ali|\n",
      "    | 16| Bob|\n",
      "    +---+----+\n",
      "    \n",
      "    Show :class:`DataFrame` vertically.\n",
      "    \n",
      "    >>> df.show(vertical=True)\n",
      "    -RECORD 0-----\n",
      "    age  | 14\n",
      "    name | Tom\n",
      "    -RECORD 1-----\n",
      "    age  | 23\n",
      "    name | Alice\n",
      "    -RECORD 2-----\n",
      "    age  | 16\n",
      "    name | Bob\n",
      "\n"
     ]
    }
   ],
   "source": [
    "help(df.show)"
   ]
  }
 ],
 "metadata": {
  "kernelspec": {
   "display_name": "Python 3",
   "language": "python",
   "name": "python3"
  },
  "language_info": {
   "codemirror_mode": {
    "name": "ipython",
    "version": 3
   },
   "file_extension": ".py",
   "mimetype": "text/x-python",
   "name": "python",
   "nbconvert_exporter": "python",
   "pygments_lexer": "ipython3",
   "version": "3.10.6"
  }
 },
 "nbformat": 4,
 "nbformat_minor": 2
}
