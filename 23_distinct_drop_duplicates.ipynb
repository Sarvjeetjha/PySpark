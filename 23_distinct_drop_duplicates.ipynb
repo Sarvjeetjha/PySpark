{
 "cells": [
  {
   "cell_type": "markdown",
   "metadata": {},
   "source": [
    "dstinct():- it is used to remove all duplicate value from data frame (all column) ,no argument is given\n",
    "\n",
    "\n",
    "\n",
    "dropDuplicates():-  used to drop drop or remove row based on selected columns (one or multiple)"
   ]
  },
  {
   "cell_type": "code",
   "execution_count": null,
   "metadata": {},
   "outputs": [],
   "source": [
    "import pyspark\n",
    "from pyspark.sql import SparkSession\n",
    "spark=SparkSession.builder.appName('Distinct and dropDuplicate').getOrCreate()\n",
    "spark"
   ]
  },
  {
   "cell_type": "code",
   "execution_count": null,
   "metadata": {},
   "outputs": [],
   "source": [
    "from pyspark.sql.functions import *\n",
    "data=[(1,'ram',2000),(2,'shyam',5000),(2,'shyam',5000),(3,'sohan',6000)]\n",
    "schema=['id','name','salary']\n",
    "df=spark.createDataFrame(data,schema)\n",
    "df.printSchema()\n",
    "df2=df.distinct()\n",
    "df2.printSchema()\n",
    "df3=df.dropDuplicates()\n",
    "df3.printSchema()\n"
   ]
  },
  {
   "cell_type": "code",
   "execution_count": null,
   "metadata": {},
   "outputs": [],
   "source": [
    "# df.distinct().count()# goives total disinct no of rows"
   ]
  },
  {
   "cell_type": "code",
   "execution_count": null,
   "metadata": {},
   "outputs": [],
   "source": [
    "help(df.distinct)"
   ]
  },
  {
   "cell_type": "code",
   "execution_count": null,
   "metadata": {},
   "outputs": [],
   "source": [
    "help(df.dropDuplicates)\n",
    "help(df.distinct)"
   ]
  }
 ],
 "metadata": {
  "language_info": {
   "name": "python"
  }
 },
 "nbformat": 4,
 "nbformat_minor": 2
}
