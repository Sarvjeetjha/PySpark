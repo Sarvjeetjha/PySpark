{
 "cells": [
  {
   "cell_type": "code",
   "execution_count": 12,
   "metadata": {},
   "outputs": [
    {
     "data": {
      "text/html": [
       "\n",
       "            <div>\n",
       "                <p><b>SparkSession - in-memory</b></p>\n",
       "                \n",
       "        <div>\n",
       "            <p><b>SparkContext</b></p>\n",
       "\n",
       "            <p><a href=\"http://LAPTOP-27E2FOUT:4040\">Spark UI</a></p>\n",
       "\n",
       "            <dl>\n",
       "              <dt>Version</dt>\n",
       "                <dd><code>v3.5.0</code></dd>\n",
       "              <dt>Master</dt>\n",
       "                <dd><code>local[*]</code></dd>\n",
       "              <dt>AppName</dt>\n",
       "                <dd><code>Row class practice</code></dd>\n",
       "            </dl>\n",
       "        </div>\n",
       "        \n",
       "            </div>\n",
       "        "
      ],
      "text/plain": [
       "<pyspark.sql.session.SparkSession at 0x2ddd6b3c910>"
      ]
     },
     "execution_count": 12,
     "metadata": {},
     "output_type": "execute_result"
    }
   ],
   "source": [
    "from pyspark.sql import SparkSession\n",
    "spark=SparkSession.builder.appName('column class practice').getOrCreate()\n",
    "spark"
   ]
  },
  {
   "cell_type": "code",
   "execution_count": 14,
   "metadata": {},
   "outputs": [
    {
     "name": "stdout",
     "output_type": "stream",
     "text": [
      "root\n",
      " |-- roll: long (nullable = true)\n",
      " |-- name: string (nullable = true)\n",
      "\n"
     ]
    }
   ],
   "source": [
    "data=[(1,'ram'),(2,'shyam')]\n",
    "\n",
    "df=spark.createDataFrame(data,['roll','name'])\n",
    "df.printSchema()\n",
    "# df.show()"
   ]
  },
  {
   "cell_type": "code",
   "execution_count": 18,
   "metadata": {},
   "outputs": [
    {
     "name": "stdout",
     "output_type": "stream",
     "text": [
      "<class 'pyspark.sql.column.Column'>\n"
     ]
    }
   ],
   "source": [
    "from pyspark.sql.functions  import *\n",
    "\n",
    "col1=lit('abcd')\n",
    "\n",
    "print(type(col1))"
   ]
  },
  {
   "cell_type": "code",
   "execution_count": 19,
   "metadata": {},
   "outputs": [
    {
     "name": "stdout",
     "output_type": "stream",
     "text": [
      "root\n",
      " |-- roll: long (nullable = true)\n",
      " |-- name: string (nullable = true)\n",
      " |-- newCOl: string (nullable = false)\n",
      "\n"
     ]
    }
   ],
   "source": [
    "from pyspark.sql.functions  import *\n",
    "df2=df.withColumn('newCOl',lit('newColValue'))\n",
    "df2.printSchema()\n",
    "# df2.show()"
   ]
  },
  {
   "cell_type": "markdown",
   "metadata": {},
   "source": [
    "Multiple ways to acess Column fromm dataframe"
   ]
  },
  {
   "cell_type": "code",
   "execution_count": 26,
   "metadata": {},
   "outputs": [
    {
     "name": "stdout",
     "output_type": "stream",
     "text": [
      "root\n",
      " |-- roll: long (nullable = true)\n",
      "\n"
     ]
    }
   ],
   "source": [
    "df4=df2.select(df.roll)#1st way\n",
    "df4=df2.select(df['roll'])#2nd way\n",
    "df4=df2.select(col('roll'))#3rd way\n",
    "df4.printSchema()\n",
    "# df4.show()\n"
   ]
  },
  {
   "cell_type": "code",
   "execution_count": 43,
   "metadata": {},
   "outputs": [
    {
     "name": "stdout",
     "output_type": "stream",
     "text": [
      "root\n",
      " |-- name: string (nullable = true)\n",
      " |-- property: struct (nullable = true)\n",
      " |    |-- hair: string (nullable = true)\n",
      " |    |-- eye: string (nullable = true)\n",
      "\n",
      "root\n",
      " |-- property.hair: string (nullable = true)\n",
      "\n",
      "root\n",
      " |-- hair: string (nullable = true)\n",
      "\n",
      "root\n",
      " |-- hair: string (nullable = true)\n",
      "\n",
      "root\n",
      " |-- property.hair: string (nullable = true)\n",
      "\n",
      "root\n",
      " |-- property.hair: string (nullable = true)\n",
      "\n"
     ]
    }
   ],
   "source": [
    "from pyspark.sql.types import *\n",
    "data=[('ram',('black','brown')),('shyam',('grey','blue'))]\n",
    "propSchema=StructType([StructField('hair',StringType()),StructField('eye',StringType())])\n",
    "schema=StructType([StructField('name',StringType()),StructField('property',propSchema)])\n",
    "df=spark.createDataFrame(data,schema)\n",
    "df.printSchema()\n",
    "# df.show()\n",
    "df.select(df.property.hair).printSchema() #1st way\n",
    "# df.select(df.property.hair).show()\n",
    "df.select(df['property.hair']).printSchema()\n",
    "df.select(col('property.hair')).printSchema()\n",
    "df.select(df.property['hair']).printSchema()\n",
    "df.select(df['property']['hair']).printSchema()\n"
   ]
  }
 ],
 "metadata": {
  "kernelspec": {
   "display_name": "Python 3",
   "language": "python",
   "name": "python3"
  },
  "language_info": {
   "codemirror_mode": {
    "name": "ipython",
    "version": 3
   },
   "file_extension": ".py",
   "mimetype": "text/x-python",
   "name": "python",
   "nbconvert_exporter": "python",
   "pygments_lexer": "ipython3",
   "version": "3.10.6"
  }
 },
 "nbformat": 4,
 "nbformat_minor": 2
}
