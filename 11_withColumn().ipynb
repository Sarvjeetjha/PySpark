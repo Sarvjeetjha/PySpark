{
 "cells": [
  {
   "cell_type": "markdown",
   "metadata": {},
   "source": [
    "withShow() method"
   ]
  },
  {
   "cell_type": "code",
   "execution_count": 21,
   "metadata": {},
   "outputs": [
    {
     "data": {
      "text/html": [
       "\n",
       "            <div>\n",
       "                <p><b>SparkSession - in-memory</b></p>\n",
       "                \n",
       "        <div>\n",
       "            <p><b>SparkContext</b></p>\n",
       "\n",
       "            <p><a href=\"http://LAPTOP-27E2FOUT:4041\">Spark UI</a></p>\n",
       "\n",
       "            <dl>\n",
       "              <dt>Version</dt>\n",
       "                <dd><code>v3.5.0</code></dd>\n",
       "              <dt>Master</dt>\n",
       "                <dd><code>local[*]</code></dd>\n",
       "              <dt>AppName</dt>\n",
       "                <dd><code>show method</code></dd>\n",
       "            </dl>\n",
       "        </div>\n",
       "        \n",
       "            </div>\n",
       "        "
      ],
      "text/plain": [
       "<pyspark.sql.session.SparkSession at 0x2b1eb7109a0>"
      ]
     },
     "execution_count": 21,
     "metadata": {},
     "output_type": "execute_result"
    }
   ],
   "source": [
    "import pyspark\n",
    "from pyspark.sql import SparkSession\n",
    "spark=SparkSession.builder.appName('withcolumn method').getOrCreate()\n",
    "spark"
   ]
  },
  {
   "cell_type": "code",
   "execution_count": 23,
   "metadata": {},
   "outputs": [
    {
     "name": "stdout",
     "output_type": "stream",
     "text": [
      "+-----+---+----------+\n",
      "| name|age|Experience|\n",
      "+-----+---+----------+\n",
      "|shyam| 25|         5|\n",
      "|  ram| 32|         3|\n",
      "|mohan| 36|         8|\n",
      "+-----+---+----------+\n",
      "\n",
      "root\n",
      " |-- name: string (nullable = true)\n",
      " |-- age: integer (nullable = true)\n",
      " |-- Experience: integer (nullable = true)\n",
      "\n"
     ]
    }
   ],
   "source": [
    "df=spark.read.csv('test5.csv',header=True,inferSchema=True)\n",
    "\n",
    "df.show()\n",
    "df.printSchema()"
   ]
  },
  {
   "cell_type": "markdown",
   "metadata": {},
   "source": [
    "Parameters\n",
    "    ----------\n",
    "    colName : str\n",
    "        string, name of the new column.\n",
    "    col : :class:`Column`\n",
    "        a :class:`Column` expression for the new column.\n",
    "    \n",
    "    Returns\n",
    "    -------\n",
    "    :class:`DataFrame`\n",
    "        DataFrame with new or replaced column.\n",
    "    \n",
    "    Notes\n",
    "    -----\n",
    "    This method introduces a projection internally. Therefore, calling it multiple\n",
    "    times, for instance, via loops in order to add multiple columns can generate big\n",
    "    plans which can cause performance issues and even `StackOverflowException`.\n",
    "    To avoid this, use :func:`select` with multiple columns at once.\n",
    "    "
   ]
  },
  {
   "cell_type": "markdown",
   "metadata": {},
   "source": [
    "To Change datatypes of columns"
   ]
  },
  {
   "cell_type": "code",
   "execution_count": 32,
   "metadata": {},
   "outputs": [
    {
     "name": "stdout",
     "output_type": "stream",
     "text": [
      "+-----+---+----------+\n",
      "| name|age|Experience|\n",
      "+-----+---+----------+\n",
      "|shyam| 25|         5|\n",
      "|  ram| 32|         3|\n",
      "|mohan| 36|         8|\n",
      "+-----+---+----------+\n",
      "\n",
      "root\n",
      " |-- name: string (nullable = true)\n",
      " |-- age: integer (nullable = true)\n",
      " |-- Experience: integer (nullable = true)\n",
      "\n",
      "+-----+---+----------+\n",
      "| name|age|Experience|\n",
      "+-----+---+----------+\n",
      "|shyam| 25|         5|\n",
      "|  ram| 32|         3|\n",
      "|mohan| 36|         8|\n",
      "+-----+---+----------+\n",
      "\n",
      "root\n",
      " |-- name: string (nullable = true)\n",
      " |-- age: string (nullable = true)\n",
      " |-- Experience: integer (nullable = true)\n",
      "\n"
     ]
    }
   ],
   "source": [
    "from pyspark.sql.functions import col,lit\n",
    "#col is used to access columns of datframe, lit is used to assign  values to perticular columns\n",
    "df=spark.read.csv('test5.csv',header=True,inferSchema=True)\n",
    "df.show()\n",
    "df.printSchema()\n",
    "#changing data types of age column to string\n",
    "# cast is used to change dataTypes\n",
    "df2=df.withColumn(colName='age',col=df.age.cast('String')) # accesesing column without col method\n",
    "df2.show()\n",
    "df2.printSchema()"
   ]
  },
  {
   "cell_type": "code",
   "execution_count": 33,
   "metadata": {},
   "outputs": [
    {
     "name": "stdout",
     "output_type": "stream",
     "text": [
      "+-----+---+----------+\n",
      "| name|age|Experience|\n",
      "+-----+---+----------+\n",
      "|shyam| 25|         5|\n",
      "|  ram| 32|         3|\n",
      "|mohan| 36|         8|\n",
      "+-----+---+----------+\n",
      "\n",
      "root\n",
      " |-- name: string (nullable = true)\n",
      " |-- age: integer (nullable = true)\n",
      " |-- Experience: integer (nullable = true)\n",
      "\n",
      "+-----+---+----------+\n",
      "| name|age|Experience|\n",
      "+-----+---+----------+\n",
      "|shyam| 25|         5|\n",
      "|  ram| 32|         3|\n",
      "|mohan| 36|         8|\n",
      "+-----+---+----------+\n",
      "\n",
      "root\n",
      " |-- name: string (nullable = true)\n",
      " |-- age: string (nullable = true)\n",
      " |-- Experience: integer (nullable = true)\n",
      "\n"
     ]
    }
   ],
   "source": [
    "df=spark.read.csv('test5.csv',header=True,inferSchema=True)\n",
    "df.show()\n",
    "df.printSchema()\n",
    "#changing data types of age column to string\n",
    "df2=df.withColumn(colName='age',col=col('age').cast('String')) # accesesing column with col method\n",
    "df2.show()\n",
    "df2.printSchema()"
   ]
  },
  {
   "cell_type": "markdown",
   "metadata": {},
   "source": [
    "To change data of exixting columns"
   ]
  },
  {
   "cell_type": "code",
   "execution_count": 35,
   "metadata": {},
   "outputs": [
    {
     "name": "stdout",
     "output_type": "stream",
     "text": [
      "+-----+---+----------+\n",
      "| name|age|Experience|\n",
      "+-----+---+----------+\n",
      "|shyam| 25|         5|\n",
      "|  ram| 32|         3|\n",
      "|mohan| 36|         8|\n",
      "+-----+---+----------+\n",
      "\n",
      "root\n",
      " |-- name: string (nullable = true)\n",
      " |-- age: integer (nullable = true)\n",
      " |-- Experience: integer (nullable = true)\n",
      "\n",
      "+-----+---+----------+\n",
      "| name|age|Experience|\n",
      "+-----+---+----------+\n",
      "|shyam| 50|         5|\n",
      "|  ram| 64|         3|\n",
      "|mohan| 72|         8|\n",
      "+-----+---+----------+\n",
      "\n",
      "root\n",
      " |-- name: string (nullable = true)\n",
      " |-- age: integer (nullable = true)\n",
      " |-- Experience: integer (nullable = true)\n",
      "\n"
     ]
    }
   ],
   "source": [
    "df=spark.read.csv('test5.csv',header=True,inferSchema=True)\n",
    "df.show()\n",
    "df.printSchema()\n",
    "#changing data  of existing columns age\n",
    "df2=df.withColumn(colName='age',col=col('age')*2) # increasing age by 2 times\n",
    "df2.show()\n",
    "df2.printSchema()"
   ]
  },
  {
   "cell_type": "code",
   "execution_count": 37,
   "metadata": {},
   "outputs": [
    {
     "name": "stdout",
     "output_type": "stream",
     "text": [
      "+-----+---+----------+\n",
      "| name|age|Experience|\n",
      "+-----+---+----------+\n",
      "|shyam| 25|         5|\n",
      "|  ram| 32|         3|\n",
      "|mohan| 36|         8|\n",
      "+-----+---+----------+\n",
      "\n",
      "root\n",
      " |-- name: string (nullable = true)\n",
      " |-- age: integer (nullable = true)\n",
      " |-- Experience: integer (nullable = true)\n",
      "\n",
      "+-----+---+----------+\n",
      "| name|age|Experience|\n",
      "+-----+---+----------+\n",
      "|shyam| 50|         5|\n",
      "|  ram| 64|         3|\n",
      "|mohan| 72|         8|\n",
      "+-----+---+----------+\n",
      "\n",
      "root\n",
      " |-- name: string (nullable = true)\n",
      " |-- age: integer (nullable = true)\n",
      " |-- Experience: integer (nullable = true)\n",
      "\n"
     ]
    }
   ],
   "source": [
    "df=spark.read.csv('test5.csv',header=True,inferSchema=True)\n",
    "df.show()\n",
    "df.printSchema()\n",
    "#changing data  of existing columns age\n",
    "df2=df.withColumn('age',df.age*2) # increasing age by 2 times\n",
    "df2.show()\n",
    "df2.printSchema()"
   ]
  },
  {
   "cell_type": "code",
   "execution_count": 38,
   "metadata": {},
   "outputs": [
    {
     "name": "stdout",
     "output_type": "stream",
     "text": [
      "+-----+---+----------+\n",
      "| name|age|Experience|\n",
      "+-----+---+----------+\n",
      "|shyam| 25|         5|\n",
      "|  ram| 32|         3|\n",
      "|mohan| 36|         8|\n",
      "+-----+---+----------+\n",
      "\n",
      "root\n",
      " |-- name: string (nullable = true)\n",
      " |-- age: integer (nullable = true)\n",
      " |-- Experience: integer (nullable = true)\n",
      "\n",
      "+-----+---+----------+\n",
      "| name|age|Experience|\n",
      "+-----+---+----------+\n",
      "|shyam| 50|         5|\n",
      "|  ram| 64|         3|\n",
      "|mohan| 72|         8|\n",
      "+-----+---+----------+\n",
      "\n",
      "root\n",
      " |-- name: string (nullable = true)\n",
      " |-- age: integer (nullable = true)\n",
      " |-- Experience: integer (nullable = true)\n",
      "\n"
     ]
    }
   ],
   "source": [
    "df=spark.read.csv('test5.csv',header=True,inferSchema=True)\n",
    "df.show()\n",
    "df.printSchema()\n",
    "#changing data  of existing columns age\n",
    "df2=df.withColumn('age',col('age')*2) # increasing age by 2 times\n",
    "df2.show()\n",
    "df2.printSchema()"
   ]
  },
  {
   "cell_type": "markdown",
   "metadata": {},
   "source": [
    "Creatingh New columns with a fix value"
   ]
  },
  {
   "cell_type": "code",
   "execution_count": 40,
   "metadata": {},
   "outputs": [
    {
     "name": "stdout",
     "output_type": "stream",
     "text": [
      "+-----+---+----------+\n",
      "| name|age|Experience|\n",
      "+-----+---+----------+\n",
      "|shyam| 25|         5|\n",
      "|  ram| 32|         3|\n",
      "|mohan| 36|         8|\n",
      "+-----+---+----------+\n",
      "\n",
      "root\n",
      " |-- name: string (nullable = true)\n",
      " |-- age: integer (nullable = true)\n",
      " |-- Experience: integer (nullable = true)\n",
      "\n",
      "+-----+---+----------+-------+\n",
      "| name|age|Experience|Country|\n",
      "+-----+---+----------+-------+\n",
      "|shyam| 25|         5|  India|\n",
      "|  ram| 32|         3|  India|\n",
      "|mohan| 36|         8|  India|\n",
      "+-----+---+----------+-------+\n",
      "\n",
      "root\n",
      " |-- name: string (nullable = true)\n",
      " |-- age: integer (nullable = true)\n",
      " |-- Experience: integer (nullable = true)\n",
      " |-- Country: string (nullable = false)\n",
      "\n"
     ]
    }
   ],
   "source": [
    "df=spark.read.csv('test5.csv',header=True,inferSchema=True)\n",
    "df.show()\n",
    "df.printSchema()\n",
    "#changing data  of existing columns age\n",
    "df2=df.withColumn('Country',lit('India')) # increasing age by 2 times\n",
    "df2.show()\n",
    "df2.printSchema()"
   ]
  },
  {
   "cell_type": "code",
   "execution_count": 27,
   "metadata": {},
   "outputs": [
    {
     "name": "stdout",
     "output_type": "stream",
     "text": [
      "Help on method withColumn in module pyspark.sql.dataframe:\n",
      "\n",
      "withColumn(colName: str, col: pyspark.sql.column.Column) -> 'DataFrame' method of pyspark.sql.dataframe.DataFrame instance\n",
      "    Returns a new :class:`DataFrame` by adding a column or replacing the\n",
      "    existing column that has the same name.\n",
      "    \n",
      "    The column expression must be an expression over this :class:`DataFrame`; attempting to add\n",
      "    a column from some other :class:`DataFrame` will raise an error.\n",
      "    \n",
      "    .. versionadded:: 1.3.0\n",
      "    \n",
      "    .. versionchanged:: 3.4.0\n",
      "        Supports Spark Connect.\n",
      "    \n",
      "    Parameters\n",
      "    ----------\n",
      "    colName : str\n",
      "        string, name of the new column.\n",
      "    col : :class:`Column`\n",
      "        a :class:`Column` expression for the new column.\n",
      "    \n",
      "    Returns\n",
      "    -------\n",
      "    :class:`DataFrame`\n",
      "        DataFrame with new or replaced column.\n",
      "    \n",
      "    Notes\n",
      "    -----\n",
      "    This method introduces a projection internally. Therefore, calling it multiple\n",
      "    times, for instance, via loops in order to add multiple columns can generate big\n",
      "    plans which can cause performance issues and even `StackOverflowException`.\n",
      "    To avoid this, use :func:`select` with multiple columns at once.\n",
      "    \n",
      "    Examples\n",
      "    --------\n",
      "    >>> df = spark.createDataFrame([(2, \"Alice\"), (5, \"Bob\")], schema=[\"age\", \"name\"])\n",
      "    >>> df.withColumn('age2', df.age + 2).show()\n",
      "    +---+-----+----+\n",
      "    |age| name|age2|\n",
      "    +---+-----+----+\n",
      "    |  2|Alice|   4|\n",
      "    |  5|  Bob|   7|\n",
      "    +---+-----+----+\n",
      "\n"
     ]
    }
   ],
   "source": [
    "help(df.withColumn)"
   ]
  },
  {
   "cell_type": "code",
   "execution_count": 26,
   "metadata": {},
   "outputs": [],
   "source": []
  },
  {
   "cell_type": "code",
   "execution_count": null,
   "metadata": {},
   "outputs": [],
   "source": []
  }
 ],
 "metadata": {
  "kernelspec": {
   "display_name": "Python 3",
   "language": "python",
   "name": "python3"
  },
  "language_info": {
   "codemirror_mode": {
    "name": "ipython",
    "version": 3
   },
   "file_extension": ".py",
   "mimetype": "text/x-python",
   "name": "python",
   "nbconvert_exporter": "python",
   "pygments_lexer": "ipython3",
   "version": "3.10.6"
  }
 },
 "nbformat": 4,
 "nbformat_minor": 2
}
